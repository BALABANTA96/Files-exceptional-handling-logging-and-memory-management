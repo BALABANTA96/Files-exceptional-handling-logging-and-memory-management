{
  "nbformat": 4,
  "nbformat_minor": 0,
  "metadata": {
    "colab": {
      "provenance": []
    },
    "kernelspec": {
      "name": "python3",
      "display_name": "Python 3"
    },
    "language_info": {
      "name": "python"
    }
  },
  "cells": [
    {
      "cell_type": "code",
      "execution_count": null,
      "metadata": {
        "id": "aNZLtsLoqxOB"
      },
      "outputs": [],
      "source": []
    },
    {
      "cell_type": "markdown",
      "source": [
        "# Files & Exceptional Handling"
      ],
      "metadata": {
        "id": "-4y9IF-Gq7c1"
      }
    },
    {
      "cell_type": "code",
      "source": [],
      "metadata": {
        "id": "tKKs9WZWrGaz"
      },
      "execution_count": null,
      "outputs": []
    },
    {
      "cell_type": "markdown",
      "source": [],
      "metadata": {
        "id": "XKoKEnboHEgM"
      }
    },
    {
      "cell_type": "markdown",
      "source": [
        "Q.1 What is the difference between interpreted and compiled languages?\n",
        "   - Code written in compiled languages is translated directly into machine code (binary) by a compiler before execution.\n",
        "   - Code is translated and executed line-by-line at runtime by an interpreter.\n",
        "\n",
        "Q.2 What is exception handling in Python?\n",
        "   - Exception handling in Python is a mechanism to deal with errors that occur during the execution of a program. Instead of letting the program crash, you can gracefully handle these errors and continue execution or provide meaningful feedback to the user.\n",
        "\n",
        "Q.3 What is the purpose of the finally block in exception handling?\n",
        "   - The  block in exception handling serves a crucial role: it ensures that certain code runs no matter what happens during the program's execution—whether an exception is raised or not.\n",
        "\n",
        "Q.4 What is logging in Python?\n",
        "   - Logging in Python is a built-in module that enables you to record events, errors, and other messages while your program runs.\n",
        "\n",
        "Q.5 What is the significance of the __del__ method in Python?\n",
        "   - The del method in Python is a special or \"magic\" method that is called automatically when an object is being destroyed, i.e., when it is garbage-collected. It serves as a destructor and allows you to define cleanup tasks that need to be performed when an object is no longer needed.\n",
        "\n",
        "Q.6 What is the difference between import and from ... import in Python?\n",
        "  - In Python, both import and from ... import are used to include external modules or specific components of them into your program, but they work in different ways:\n",
        "  - This statement imports the entire module.\n",
        "  - You can access the imported components directly without prefixing them with the module name.\n",
        "\n",
        "Q.7 How can you handle multiple exceptions in Python?\n",
        "  - In Python, you can handle multiple exceptions using a try...except block in various ways. Here are the most common approaches:\n",
        "  - Using Separate except Blocks for Each Exception.\n",
        "  - Handling Multiple Exceptions in a Single except Block.\n",
        "  - Using a Generic Exception Block.\n",
        "\n",
        "Q.8 What is the purpose of the with statement when handling files in Python?\n",
        "  - The with statement in Python is designed to simplify file handling and ensure that resources are managed properly. Its primary purpose is to automatically handle the opening and closing of files, which reduces the risk of errors, like forgetting to close a file.\n",
        "\n",
        "Q.9  What is the difference between multithreading and multiprocessing?\n",
        "  - Multithreading: Multithreading involves running multiple threads within a single process. Threads share the same memory space.\n",
        "  - Multiprocessing: Multiprocessing involves running multiple processes, each with its own memory space. Processes are independent.\n",
        "\n",
        "Q.10 What are the advantages of using logging in a program?\n",
        "  - Advantages of Logging:\n",
        "     1.Easier Debugging:Logs provide detailed information about the execution flow, errors, and system behavior, making it easier to identify and fix issues.\n",
        "     2.Improved Monitoring:Logs help keep track of application performance, resource utilization, and potential bottlenecks, enabling proactive improvements.\n",
        "\n",
        "Q.11 What is memory management in Python?\n",
        "   - Memory management in Python refers to the process of allocating and deallocating memory to store data during the execution of a Python program. Python handles memory management automatically, ensuring efficiency.\n",
        "\n",
        "Q.12 What are the basic steps involved in exception handling in Python?\n",
        "   - Exception handling in Python is a structured way to manage errors that may occur during the execution of a program. Here are the basic steps:\n",
        "     1. Identify Code That May Raise an Exception: Recognize parts of your program where errors might occur, such as file operations, user inputs, or calculations.\n",
        "     2. Handle Exceptions With an except Block: Specify the exception you want to handle using an except block. You can handle specific exceptions or a general exception.\n",
        "\n",
        "Q.13 Why is memory management important in Python?\n",
        "   - Memory management in Python is crucial for several reasons, ensuring the efficiency and reliability of your programs:\n",
        "   1. Optimal Use of Resources: By managing memory effectively, Python ensures that programs don't consume more memory than necessary, which is especially important when working with limited system resources.\n",
        "   2. Prevention of Memory Leaks: Automatic garbage collection helps free memory used by objects that are no longer needed, preventing memory leaks that could degrade performance over time.\n",
        "\n",
        "Q.14 What is the role of try and except in exception handling?\n",
        "   - The try and except blocks are central to exception handling in Python, providing a structured way to deal with errors during program execution. Here's their role:\n",
        "   1. try Block: The try block contains the code that may raise an exception. Python attempts to execute the statements inside the try block. If no exception occurs, the program continues normally.\n",
        "   2. except Block: When an exception occurs in the try block, Python immediately stops executing the code there and jumps to the except block. This block defines how to handle the specific type of error that occurred, enabling the program to recover gracefully.\n",
        "\n",
        "Q.15 How does Python's garbage collection system work?\n",
        "   - Python's garbage collection system automatically manages memory by reclaiming unused memory spaces to optimize program performance and prevent memory leaks. Here's how it works:\n",
        "   1. Reference Counting: Python tracks the number of references to each object using a reference counter. When an object's reference count drops to zero (i.e., no variable or object refers to it anymore), the memory occupied by that object can be deallocated.\n",
        "   2. Manual Interaction: Python provides the gc module, which allows developers to control garbage collection manually. For example, you can disable automatic garbage collection or trigger it explicitly using gc.collect().\n",
        "\n",
        "Q.16 What is the purpose of the else block in exception handling?\n",
        "   - In Python's exception handling, the else block is used to define a section of code that should execute only if no exceptions are raised in the try.\n",
        "\n",
        "Q.17 What are the common logging levels in Python?\n",
        "   - Python's logging module provides a flexible way to generate and manage logs in applications. It includes several predefined logging levels that indicate the importance or severity of a message. Here are the common logging levels:\n",
        "   1. DEBUG (10): Detailed information, typically used for diagnosing problems during development. Example: logging.debug(\"This is a debug message.\")\n",
        "   2. ERROR (40): Logs error events that disrupt part of the program's functionality. Example: logging.error(\"Failed to open file.\")\n",
        "\n",
        "Q.18 What is the difference between os.fork() and multiprocessing in Python?\n",
        "   - The key difference between os.fork() and the multiprocessing module in Python lies in how they create new processes and their usability across platforms.\n",
        "   - Functionality: This function creates a child process by duplicating the parent process. The child process is almost identical to the parent, except for a few key differences (like the process ID). It is a low-level system call.\n",
        "   - Platform Dependency: It is available only on Unix-based systems (e.g., Linux, macOS). It doesn't work on Windows.\n",
        "   - Shared Memory: Both parent and child share the same memory space, so changes in shared resources (e.g., global variables) affect both processes. This requires careful handling to avoid bugs.\n",
        "\n",
        "Q.19 What is the importance of closing a file in Python?\n",
        "  - Closing a file in Python is crucial for managing system resources and ensuring data integrity. Here's why:\n",
        "  1. Releasing Resources: When you open a file, it consumes system resources like memory and file descriptors. Closing the file frees these resources, allowing them to be used elsewhere.\n",
        "  2. Saving Changes: If you write to a file, closing it ensures that all changes are saved to disk. Without closing, some data might remain in the buffer and not be written, leading to data loss.\n",
        "  3. Improved Efficiency: Properly closing files reduces the risk of unnecessary resource consumption, enhancing the efficiency and stability of your application.\n",
        "\n",
        "Q.20 What is the difference between file.read() and file.readline() in Python?\n",
        "   - The file.read() and file.readline() methods in Python are both used to read content from a file, but they work differently. Here's a clear comparison:\n",
        "   1. file.read(): Reads the entire content of the file or a specified number of characters.\n",
        "   2. file.readline(): Reads a single line from the file at a time.\n",
        "\n",
        "Q.21 What is the logging module in Python used for?\n",
        "   - The logging module in Python is a powerful tool designed to help developers track events that happen during the execution of a program. It's commonly used for debugging, monitoring, and understanding the behavior of applications.\n",
        "\n",
        "Q.22 What is the os module in Python used for in file handling?\n",
        "   - The os module in Python is a built-in library that provides functions to interact with the operating system. In the context of file handling, it plays a vital role by offering tools to perform various file-related operations.\n",
        "\n",
        "Q.23 What are the challenges associated with memory management in Python?\n",
        "  - Memory management in Python, while automated and efficient, can present several challenges depending on the scenario or complexity of the application.\n",
        "\n",
        "Q.24 How do you raise an exception manually in Python?\n",
        "  - In Python, you can manually raise an exception using the raise statement. This allows you to create and handle specific error scenarios in your program, ensuring proper error management when certain conditions are met.\n",
        "\n",
        "Q.25 Why is it important to use multithreading in certain applications?\n",
        "   - Multithreading is essential in certain applications because it allows a program to perform multiple tasks simultaneously, improving efficiency and responsiveness. Here's why it's particularly important:\n",
        "   1. Enhanced Performance: Multithreading enables parallel execution, allowing applications to utilize CPU cores effectively. It is especially valuable in compute-intensive tasks like simulations and data processing.\n",
        "   2. Responsiveness: In applications with user interfaces, multithreading ensures the UI remains responsive while background tasks are executed. For example, a file upload process can run in the background while users interact with the UI.\n",
        "\n",
        "\n",
        "\n",
        "\n",
        "\n"
      ],
      "metadata": {
        "id": "YznGwXVDrHq-"
      }
    },
    {
      "cell_type": "code",
      "source": [
        "# Practical Questions"
      ],
      "metadata": {
        "id": "isEmQijchZ_Y"
      },
      "execution_count": null,
      "outputs": []
    },
    {
      "cell_type": "code",
      "source": [
        "#Q1. How can you open a file for writing in Python and write a string to it?\n",
        "\n",
        "# Option 1: Using 'with'\n",
        "with open(\"example.txt\", \"w\") as file:\n",
        "    file.write(\"Hello, World!\")  # Writes the string to the file\n"
      ],
      "metadata": {
        "id": "p3B_XS37hmHP"
      },
      "execution_count": null,
      "outputs": []
    },
    {
      "cell_type": "code",
      "source": [
        "#Q.2 Write a Python program to read the contents of a file and print each line?\n",
        "with open(\"example.txt\", \"r\") as file:\n",
        "    for line in file:\n",
        "        print(line)\n",
        "\n",
        "\n"
      ],
      "metadata": {
        "colab": {
          "base_uri": "https://localhost:8080/"
        },
        "id": "aKt6c0Uoi9mH",
        "outputId": "892dab4f-744c-4564-bd3b-2ca98bc0709b"
      },
      "execution_count": null,
      "outputs": [
        {
          "output_type": "stream",
          "name": "stdout",
          "text": [
            "Hello, World!\n"
          ]
        }
      ]
    },
    {
      "cell_type": "code",
      "source": [
        "#Q.3 How would you handle a case where the file doesn't exist while trying to open it for reading?\n",
        "try:\n",
        "    with open(\"nonexistent_file.txt\", \"r\") as file:\n",
        "        content = file.read()\n",
        "        print(content)\n",
        "except FileNotFoundError:\n",
        "    print(\"The file does not exist.\")\n",
        "\n"
      ],
      "metadata": {
        "colab": {
          "base_uri": "https://localhost:8080/"
        },
        "id": "MT-qeVzzkoc1",
        "outputId": "a29a5853-e281-4415-b07a-5cdeb8f57635"
      },
      "execution_count": null,
      "outputs": [
        {
          "output_type": "stream",
          "name": "stdout",
          "text": [
            "The file does not exist.\n"
          ]
        }
      ]
    },
    {
      "cell_type": "code",
      "source": [
        "#Q.4 Write a Python script that reads from one file and writes its content to another file?\n",
        "# Function to read from a file and write to another file\n",
        "def copy_file_content(input_file, output_file):\n",
        "    try:\n",
        "        # Open the input file in read mode\n",
        "        with open(input_file, 'r') as infile:\n",
        "            content = infile.read()\n",
        "\n",
        "        # Open the output file in write mode and write the content\n",
        "        with open(output_file, 'w') as outfile:\n",
        "            outfile.write(content)\n",
        "\n",
        "        print(f\"Content successfully copied from {input_file} to {output_file}.\")\n",
        "\n",
        "    except FileNotFoundError:\n",
        "        print(f\"The file {input_file} does not exist.\")\n",
        "    except Exception as e:\n",
        "        print(f\"An error occurred: {e}\")\n",
        "\n"
      ],
      "metadata": {
        "id": "-V89xmZymfTc"
      },
      "execution_count": null,
      "outputs": []
    },
    {
      "cell_type": "code",
      "source": [
        "#Q.5 How would you catch and handle division by zero error in Python?\n",
        "# In Python, you can catch and handle a division by zero error using a try-except block. Here's an example:\n",
        "# Function to divide two numbers safely\n",
        "def safe_division(a, b):\n",
        "    try:\n",
        "        result = a / b\n",
        "        print(f\"The result of division is: {result}\")\n",
        "    except ZeroDivisionError:\n",
        "        print(\"Error: Division by zero is not allowed.\")\n",
        "    except Exception as e:\n",
        "        print(f\"An unexpected error occurred: {e}\")\n",
        "\n",
        "# Example usage\n",
        "numerator = 10\n",
        "denominator = 0\n",
        "safe_division(numerator, denominator)"
      ],
      "metadata": {
        "colab": {
          "base_uri": "https://localhost:8080/"
        },
        "id": "an234JX8bOIu",
        "outputId": "4593aa2e-6cca-49fd-924e-f1360b09cecd"
      },
      "execution_count": null,
      "outputs": [
        {
          "output_type": "stream",
          "name": "stdout",
          "text": [
            "Error: Division by zero is not allowed.\n"
          ]
        }
      ]
    },
    {
      "cell_type": "code",
      "source": [
        "#Q.6 Write a Python program that logs an error message to a log file when a division by zero exception occurs.\n",
        "import logging\n",
        "\n",
        "# Configure logging\n",
        "logging.basicConfig(filename='error.log', level=logging.ERROR,\n",
        "                    format='%(asctime)s - %(levelname)s - %(message)s')\n",
        "\n",
        "# Function for safe division with logging\n",
        "def safe_division(a, b):\n",
        "    try:\n",
        "        result = a / b\n",
        "        print(f\"The result of division is: {result}\")\n",
        "    except ZeroDivisionError as e:\n",
        "        logging.error(\"Division by zero occurred.\", exc_info=True)\n",
        "        print(\"Error: Division by zero is not allowed.\")\n",
        "\n",
        "# Example usage\n",
        "numerator = 10\n",
        "denominator = 0\n",
        "safe_division(numerator, denominator)\n",
        "\n",
        "print(\"If an error occurred, it has been logged in the error.log file.\")\n",
        "\n"
      ],
      "metadata": {
        "colab": {
          "base_uri": "https://localhost:8080/"
        },
        "id": "hk08cNb8bpge",
        "outputId": "43e156ab-c56e-4c6f-907d-03bcdd409aa2"
      },
      "execution_count": null,
      "outputs": [
        {
          "output_type": "stream",
          "name": "stderr",
          "text": [
            "ERROR:root:Division by zero occurred.\n",
            "Traceback (most recent call last):\n",
            "  File \"<ipython-input-15-b39de80204eb>\", line 11, in safe_division\n",
            "    result = a / b\n",
            "             ~~^~~\n",
            "ZeroDivisionError: division by zero\n"
          ]
        },
        {
          "output_type": "stream",
          "name": "stdout",
          "text": [
            "Error: Division by zero is not allowed.\n",
            "If an error occurred, it has been logged in the error.log file.\n"
          ]
        }
      ]
    },
    {
      "cell_type": "code",
      "source": [
        "#Q.7 How do you log information at different levels (INFO, ERROR, WARNING) in Python using the logging module?\n",
        "import logging\n",
        "\n",
        "# Configure logging\n",
        "logging.basicConfig(level=logging.DEBUG,\n",
        "                    format='%(asctime)s - %(levelname)s - %(message)s')\n",
        "\n",
        "# Log messages at different levels\n",
        "logging.debug(\"This is a DEBUG message - useful for diagnosing issues.\")\n",
        "logging.info(\"This is an INFO message - general program information.\")\n",
        "logging.warning(\"This is a WARNING message - something might go wrong.\")\n",
        "logging.error(\"This is an ERROR message - an operation has failed.\")\n",
        "logging.critical(\"This is a CRITICAL message - the program may not continue.\")\n",
        "\n"
      ],
      "metadata": {
        "colab": {
          "base_uri": "https://localhost:8080/"
        },
        "id": "Z7JN_z4Pdge9",
        "outputId": "17b5ff96-f52b-49af-9fcb-e1ee635e4c02"
      },
      "execution_count": null,
      "outputs": [
        {
          "output_type": "stream",
          "name": "stderr",
          "text": [
            "WARNING:root:This is a WARNING message - something might go wrong.\n",
            "ERROR:root:This is an ERROR message - an operation has failed.\n",
            "CRITICAL:root:This is a CRITICAL message - the program may not continue.\n"
          ]
        }
      ]
    },
    {
      "cell_type": "code",
      "source": [
        "#Q.8 Write a program to handle a file opening error using exception handling.\n",
        "# Program to handle file opening errors\n",
        "def open_file(file_path):\n",
        "    try:\n",
        "        with open(file_path, 'r') as file:\n",
        "            content = file.read()\n",
        "            print(\"File content:\")\n",
        "            print(content)\n",
        "    except FileNotFoundError:\n",
        "        print(f\"Error: The file '{file_path}' does not exist.\")\n",
        "    except IOError:\n",
        "        print(f\"Error: Unable to open or read the file '{file_path}'.\")\n",
        "    except Exception as e:\n",
        "        print(f\"An unexpected error occurred: {e}\")\n",
        "\n",
        "# Example usage\n",
        "file_path = \"example.txt\"  # Replace with your file path\n",
        "open_file(file_path)\n"
      ],
      "metadata": {
        "colab": {
          "base_uri": "https://localhost:8080/"
        },
        "id": "WCx59MrUfbfz",
        "outputId": "a714b72c-2bdf-4bc9-f5ba-508c45100628"
      },
      "execution_count": null,
      "outputs": [
        {
          "output_type": "stream",
          "name": "stdout",
          "text": [
            "Error: The file 'example.txt' does not exist.\n"
          ]
        }
      ]
    },
    {
      "cell_type": "code",
      "source": [
        "#Q.9  How can you read a file line by line and store its content in a list in Python?\n",
        "#You can read a file line by line and store its contents in a list using Python's with statement and the readlines() method or a loop.\n"
      ],
      "metadata": {
        "id": "NQMTm9z2foJ8"
      },
      "execution_count": null,
      "outputs": []
    },
    {
      "cell_type": "code",
      "source": [
        "#Q.10 How can you append data to an existing file in Python?\n",
        "# Function to append data to an existing file\n",
        "def append_to_file(file_path, data):\n",
        "    try:\n",
        "        # Open the file in append mode\n",
        "        with open(file_path, 'a') as file:\n",
        "            file.write(data + '\\n')  # Add the data followed by a newline\n",
        "    except Exception as e:\n",
        "        print(f\"An error occurred: {e}\")"
      ],
      "metadata": {
        "id": "MiNYNTGHgB2s"
      },
      "execution_count": null,
      "outputs": []
    },
    {
      "cell_type": "code",
      "source": [
        "#Q.11 Write a Python program that uses a try-except block to handle an error when attempting to access a dictionary key that doesn't exist.\n",
        "# Define a dictionary with some key-value pairs\n",
        "my_dict = {\n",
        "    'name': 'Alice',\n",
        "    'age': 30,\n",
        "    'city': 'Wonderland'\n",
        "}\n",
        "\n",
        "# Function to access a key in the dictionary\n",
        "def access_key(dictionary, key):\n",
        "    try:\n",
        "        # Attempt to access the key\n",
        "        value = dictionary[key]\n",
        "        print(f\"The value for '{key}' is: {value}\")\n",
        "    except KeyError:\n",
        "        # Handle the error if the key doesn't exist\n",
        "        print(f\"Error: The key '{key}' does not exist in the dictionary.\")\n",
        "\n",
        "# Test the function with an existing key\n",
        "access_key(my_dict, 'name')\n",
        "\n",
        "# Test the function with a non-existing key\n",
        "access_key(my_dict, 'country')\n"
      ],
      "metadata": {
        "colab": {
          "base_uri": "https://localhost:8080/"
        },
        "id": "uwWIBjkhgcHF",
        "outputId": "d690386c-f894-45a4-a5ff-6c0b4797605e"
      },
      "execution_count": null,
      "outputs": [
        {
          "output_type": "stream",
          "name": "stdout",
          "text": [
            "The value for 'name' is: Alice\n",
            "Error: The key 'country' does not exist in the dictionary.\n"
          ]
        }
      ]
    },
    {
      "cell_type": "code",
      "source": [
        "#Q.12 Write a program that demonstrates using multiple except blocks to handle different types of exceptions.\n",
        "def handle_exceptions():\n",
        "    try:\n",
        "        # Trigger a division by zero error\n",
        "        num = int(input(\"Enter a number: \"))\n",
        "        result = 10 / num\n",
        "        print(f\"Result: {result}\")\n",
        "\n",
        "        # Trigger a key error\n",
        "        sample_dict = {\"name\": \"Alice\"}\n",
        "        print(f\"Age: {sample_dict['age']}\")\n",
        "\n",
        "    except ZeroDivisionError:\n",
        "        print(\"Error: Division by zero is not allowed.\")\n",
        "    except KeyError as e:\n",
        "        print(f\"Error: Missing key in dictionary - {e}\")\n",
        "    except ValueError:\n",
        "        print(\"Error: Invalid input. Please enter a number.\")\n",
        "    except Exception as e:\n",
        "        # Handle any other exceptions\n",
        "        print(f\"An unexpected error occurred: {e}\")\n",
        "\n",
        "# Run the function\n",
        "handle_exceptions()\n"
      ],
      "metadata": {
        "colab": {
          "base_uri": "https://localhost:8080/"
        },
        "id": "mxgdUd8HhtzM",
        "outputId": "66b95e55-0102-4334-c869-9e821c6ba9f3"
      },
      "execution_count": null,
      "outputs": [
        {
          "output_type": "stream",
          "name": "stdout",
          "text": [
            "Enter a number: 10\n",
            "Result: 1.0\n",
            "Error: Missing key in dictionary - 'age'\n"
          ]
        }
      ]
    },
    {
      "cell_type": "code",
      "source": [
        "#Q.13 How would you check if a file exists before attempting to read it in Python?\n",
        "#To check if a file exists before reading it in Python, you can use the os module or the pathlib module."
      ],
      "metadata": {
        "id": "-hk75fbUijC7"
      },
      "execution_count": null,
      "outputs": []
    },
    {
      "cell_type": "code",
      "source": [
        "#Q.14  Write a program that uses the logging module to log both informational and error messages.\n",
        "import logging\n",
        "\n",
        "def configure_logging():\n",
        "    # Configure the logging settings\n",
        "    logging.basicConfig(\n",
        "        level=logging.DEBUG,  # Set the logging level\n",
        "        format=\"%(asctime)s - %(levelname)s - %(message)s\",  # Format the log messages\n",
        "        filename=\"app.log\",  # Log messages will be stored in this file\n",
        "        filemode=\"w\"  # Overwrite the log file each time the program runs\n",
        "    )\n",
        "\n",
        "def perform_operations():\n",
        "    try:\n",
        "        logging.info(\"Starting the operation...\")\n",
        "\n",
        "        # Example operation: Division\n",
        "        num = int(input(\"Enter a number to divide 100: \"))\n",
        "        result = 100 / num\n",
        "        logging.info(f\"Operation successful! Result: {result}\")\n",
        "\n",
        "    except ZeroDivisionError as e:\n",
        "        logging.error(\"Division by zero error encountered.\", exc_info=True)\n",
        "    except ValueError as e:\n",
        "        logging.error(\"Invalid input. Expected a number.\", exc_info=True)\n",
        "    except Exception as e:\n",
        "        logging.error(f\"An unexpected error occurred: {e}\", exc_info=True)\n",
        "\n",
        "    finally:\n",
        "        logging.info(\"Operation concluded.\")\n",
        "\n",
        "# Configure the logging and run the program\n",
        "configure_logging()\n",
        "perform_operations()\n"
      ],
      "metadata": {
        "colab": {
          "base_uri": "https://localhost:8080/"
        },
        "id": "eTzOlcpijes6",
        "outputId": "8471d045-581e-40ab-87a8-fee5570d783c"
      },
      "execution_count": null,
      "outputs": [
        {
          "name": "stdout",
          "output_type": "stream",
          "text": [
            "Enter a number to divide 100: 2\n"
          ]
        }
      ]
    },
    {
      "cell_type": "code",
      "source": [
        "#Q.15 Write a Python program that prints the content of a file and handles the case when the file is empty.\n",
        "from pathlib import Path\n",
        "\n",
        "def print_file_content(file_path):\n",
        "    try:\n",
        "        # Check if the file exists\n",
        "        path = Path(file_path)\n",
        "        if not path.exists():\n",
        "            print(f\"Error: The file '{file_path}' does not exist.\")\n",
        "            return\n",
        "\n",
        "        # Open and read the file\n",
        "        with path.open(\"r\") as file:\n",
        "            content = file.read()\n",
        "\n",
        "            # Handle empty file case\n",
        "            if not content.strip():\n",
        "                print(f\"The file '{file_path}' is empty.\")\n",
        "            else:\n",
        "                print(\"File Content:\")\n",
        "                print(content)\n",
        "\n",
        "    except Exception as e:\n",
        "        # Handle any unexpected errors\n",
        "        print(f\"An error occurred: {e}\")\n"
      ],
      "metadata": {
        "id": "l9ZaXvsVj3Iq"
      },
      "execution_count": 1,
      "outputs": []
    },
    {
      "cell_type": "code",
      "source": [
        "#Q.16 Demonstrate how to use memory profiling to check the memory usage of a small program.\n",
        "#Install memory_profiler:pip install memory_profiler\n",
        "#Create a Python program and use the @profile decorator to monitor memory usage."
      ],
      "metadata": {
        "id": "bN1sCeEXPqis"
      },
      "execution_count": 2,
      "outputs": []
    },
    {
      "cell_type": "code",
      "source": [
        "#Q.17 Write a Python program to create and write a list of numbers to a file, one number per line.\n",
        "# Define a list of numbers\n",
        "numbers = [1, 2, 3, 4, 5]\n",
        "\n",
        "# Open a file in write mode\n",
        "with open(\"numbers.txt\", \"w\") as file:\n",
        "    # Write each number to the file, one per line\n",
        "    for number in numbers:\n",
        "        file.write(f\"{number}\\n\")\n",
        "\n",
        "print(\"Numbers have been written to 'numbers.txt'.\")\n"
      ],
      "metadata": {
        "colab": {
          "base_uri": "https://localhost:8080/"
        },
        "id": "6uolxiSGVppC",
        "outputId": "78efb750-52de-4988-c4e9-f0a0106ec45e"
      },
      "execution_count": 4,
      "outputs": [
        {
          "output_type": "stream",
          "name": "stdout",
          "text": [
            "Numbers have been written to 'numbers.txt'.\n"
          ]
        }
      ]
    },
    {
      "cell_type": "code",
      "source": [
        "#Q.18 How would you implement a basic logging setup that logs to a file with rotation after 1MB.\n",
        "import logging\n",
        "from logging.handlers import RotatingFileHandler\n",
        "\n",
        "# Set up logging\n",
        "def setup_logging():\n",
        "    # Create a logger\n",
        "    logger = logging.getLogger(\"my_logger\")\n",
        "    logger.setLevel(logging.DEBUG)  # Set the logging level\n",
        "\n",
        "    # Create a rotating file handler with a max size of 1MB (1 * 1024 * 1024 bytes)\n",
        "    handler = RotatingFileHandler(\"my_log.log\", maxBytes=1 * 1024 * 1024, backupCount=5)\n",
        "\n",
        "    # Set the format for log messages\n",
        "    formatter = logging.Formatter(\"%(asctime)s - %(levelname)s - %(message)s\")\n",
        "    handler.setFormatter(formatter)\n",
        "\n",
        "    # Add the handler to the logger\n",
        "    logger.addHandler(handler)\n",
        "\n",
        "    return logger\n",
        "\n"
      ],
      "metadata": {
        "id": "gAF01luaYGeN"
      },
      "execution_count": 6,
      "outputs": []
    },
    {
      "cell_type": "code",
      "source": [
        "#Q.19 Write a program that handles both IndexError and KeyError using a try-except block.\n",
        "# Define a list and a dictionary for demonstration\n",
        "my_list = [10, 20, 30]\n",
        "my_dict = {\"a\": 1, \"b\": 2, \"c\": 3}\n",
        "\n",
        "try:\n",
        "    # Attempt to access an out-of-range index in the list\n",
        "    print(my_list[5])\n",
        "\n",
        "    # Attempt to access a non-existing key in the dictionary\n",
        "    print(my_dict[\"z\"])\n",
        "except IndexError:\n",
        "    print(\"Caught an IndexError: List index is out of range.\")\n",
        "except KeyError:\n",
        "    print(\"Caught a KeyError: Key does not exist in the dictionary.\")\n",
        "\n",
        "print(\"Program continues running smoothly.\")\n"
      ],
      "metadata": {
        "colab": {
          "base_uri": "https://localhost:8080/"
        },
        "id": "GW1QXBkeZQ5u",
        "outputId": "fab05321-bae2-4c1c-f101-e62d8c99b51e"
      },
      "execution_count": 8,
      "outputs": [
        {
          "output_type": "stream",
          "name": "stdout",
          "text": [
            "Caught an IndexError: List index is out of range.\n",
            "Program continues running smoothly.\n"
          ]
        }
      ]
    },
    {
      "cell_type": "code",
      "source": [
        "#Q20. How would you open a file and read its contents using a context manager in Python?\n",
        "# Open the file using a context manager with open(\"example.txt\", \"r\") as file:\n",
        "    # Read the contents of the file contents = file.read()\n",
        "\n",
        "#Print the file contents\n",
        "#print(\"File Contents:\")\n",
        "#print(contents)\n"
      ],
      "metadata": {
        "id": "T87G27_bZkof"
      },
      "execution_count": 13,
      "outputs": []
    },
    {
      "cell_type": "code",
      "source": [
        "#Q21.  Write a Python program that reads a file and prints the number of occurrences of a specific word?\n",
        "# Function to count occurrences of a word in a file\n",
        "def count_word_occurrences(filename, word_to_count):\n",
        "    try:\n",
        "        # Open the file in read mode using a context manager\n",
        "        with open(filename, \"r\") as file:\n",
        "            # Read the file contents\n",
        "            contents = file.read()\n",
        "\n",
        "        # Split the contents into words (case insensitive)\n",
        "        words = contents.lower().split()\n",
        "\n",
        "        # Count occurrences of the word\n",
        "        count = words.count(word_to_count.lower())\n",
        "\n",
        "        # Print the result\n",
        "        print(f\"The word '{word_to_count}' occurs {count} time(s) in the file.\")\n",
        "    except FileNotFoundError:\n",
        "        print(f\"Error: File '{filename}' not found.\")\n",
        "    except Exception as e:\n",
        "        print(f\"An error occurred: {e}\")\n",
        "\n",
        "# Example usage\n",
        "if __name__ == \"__main__\":\n",
        "    # Specify the filename and the word to count\n",
        "    filename = \"example.txt\"\n",
        "    word_to_count = \"example\"\n",
        "\n",
        "    # Call the function\n",
        "    count_word_occurrences(filename, word_to_count)\n"
      ],
      "metadata": {
        "colab": {
          "base_uri": "https://localhost:8080/"
        },
        "id": "9EjxCB8acjvK",
        "outputId": "acde8017-2b45-4ea8-800f-db405cab7b79"
      },
      "execution_count": 15,
      "outputs": [
        {
          "output_type": "stream",
          "name": "stdout",
          "text": [
            "Error: File 'example.txt' not found.\n"
          ]
        }
      ]
    },
    {
      "cell_type": "code",
      "source": [
        "#Q22. How can you check if a file is empty before attempting to read its contents?\n",
        "filename = \"example.txt\"\n",
        "\n",
        "try:\n",
        "    # Open the file and check its contents\n",
        "    with open(filename, \"r\") as file:\n",
        "        contents = file.read()\n",
        "        if contents == \"\":\n",
        "            print(f\"The file '{filename}' is empty.\")\n",
        "        else:\n",
        "            print(f\"The file '{filename}' contains data.\")\n",
        "except FileNotFoundError:\n",
        "    print(f\"The file '{filename}' does not exist.\")\n"
      ],
      "metadata": {
        "colab": {
          "base_uri": "https://localhost:8080/"
        },
        "id": "LNY5KbF0dbYK",
        "outputId": "112d283e-dca2-43ee-8050-7f7247febe73"
      },
      "execution_count": 17,
      "outputs": [
        {
          "output_type": "stream",
          "name": "stdout",
          "text": [
            "The file 'example.txt' does not exist.\n"
          ]
        }
      ]
    },
    {
      "cell_type": "code",
      "source": [
        "#Q23. Write a Python program that writes to a log file when an error occurs during file handling?\n",
        "import logging\n",
        "\n",
        "# Set up logging to write to a file\n",
        "logging.basicConfig(\n",
        "    filename=\"file_errors.log\",\n",
        "    level=logging.ERROR,\n",
        "    format=\"%(asctime)s - %(levelname)s - %(message)s\"\n",
        ")\n",
        "\n",
        "# Function to handle file operations\n",
        "def process_file(filename):\n",
        "    try:\n",
        "        # Attempt to open and read the file\n",
        "        with open(filename, \"r\") as file:\n",
        "            contents = file.read()\n",
        "            print(\"File contents:\")\n",
        "            print(contents)\n",
        "    except FileNotFoundError:\n",
        "        logging.error(f\"File '{filename}' not found.\")\n",
        "        print(f\"Error: File '{filename}' not found.\")\n",
        "    except PermissionError:\n",
        "        logging.error(f\"Permission denied for file '{filename}'.\")\n",
        "        print(f\"Error: Permission denied for file '{filename}'.\")\n",
        "    except Exception as e:\n",
        "        logging.error(f\"An unexpected error occurred: {e}\")\n",
        "        print(f\"An unexpected error occurred: {e}\")\n",
        "\n",
        "# Example usage\n",
        "if __name__ == \"__main__\":\n",
        "    # Specify the filename\n",
        "    filename = \"example.txt\"\n",
        "\n",
        "    # Process the file\n",
        "    process_file(filename)\n",
        "\n",
        "print(\"Error handling complete. Check 'file_errors.log' for details.\")\n"
      ],
      "metadata": {
        "colab": {
          "base_uri": "https://localhost:8080/"
        },
        "id": "a7ph2tLoduoj",
        "outputId": "6073434f-5a50-4227-a8a2-366ba7c0f3f3"
      },
      "execution_count": 18,
      "outputs": [
        {
          "output_type": "stream",
          "name": "stderr",
          "text": [
            "ERROR:root:File 'example.txt' not found.\n"
          ]
        },
        {
          "output_type": "stream",
          "name": "stdout",
          "text": [
            "Error: File 'example.txt' not found.\n",
            "Error handling complete. Check 'file_errors.log' for details.\n"
          ]
        }
      ]
    }
  ]
}